{
    "cells": [
        {
            "metadata": {
                "collapsed": true
            },
            "cell_type": "markdown",
            "source": "# Scrape using Pandas\nHere first we scrape data from tables to Data Frame using BeautifulSoup and Pandas"
        },
        {
            "metadata": {},
            "cell_type": "code",
            "source": "!pip install requests\n!pip install bs4",
            "execution_count": 1,
            "outputs": [
                {
                    "output_type": "stream",
                    "text": "Requirement already satisfied: requests in /opt/conda/envs/Python-3.8-main/lib/python3.8/site-packages (2.25.1)\nRequirement already satisfied: idna<3,>=2.5 in /opt/conda/envs/Python-3.8-main/lib/python3.8/site-packages (from requests) (2.8)\nRequirement already satisfied: certifi>=2017.4.17 in /opt/conda/envs/Python-3.8-main/lib/python3.8/site-packages (from requests) (2021.5.30)\nRequirement already satisfied: urllib3<1.27,>=1.21.1 in /opt/conda/envs/Python-3.8-main/lib/python3.8/site-packages (from requests) (1.26.6)\nRequirement already satisfied: chardet<5,>=3.0.2 in /opt/conda/envs/Python-3.8-main/lib/python3.8/site-packages (from requests) (3.0.4)\nRequirement already satisfied: bs4 in /opt/conda/envs/Python-3.8-main/lib/python3.8/site-packages (0.0.1)\nRequirement already satisfied: beautifulsoup4 in /opt/conda/envs/Python-3.8-main/lib/python3.8/site-packages (from bs4) (4.9.3)\nRequirement already satisfied: soupsieve>1.2 in /opt/conda/envs/Python-3.8-main/lib/python3.8/site-packages (from beautifulsoup4->bs4) (2.2.1)\n",
                    "name": "stdout"
                }
            ]
        },
        {
            "metadata": {},
            "cell_type": "code",
            "source": "import requests\nfrom bs4 import BeautifulSoup\nimport pandas as pd",
            "execution_count": 2,
            "outputs": []
        },
        {
            "metadata": {},
            "cell_type": "code",
            "source": "url = \"https://en.wikipedia.org/wiki/World_population\"",
            "execution_count": 3,
            "outputs": []
        },
        {
            "metadata": {},
            "cell_type": "code",
            "source": "data= requests.get(url).text # get contents of webpage and stor in data",
            "execution_count": 4,
            "outputs": []
        },
        {
            "metadata": {},
            "cell_type": "code",
            "source": "soup= BeautifulSoup(data,'html5lib')",
            "execution_count": 5,
            "outputs": []
        },
        {
            "metadata": {},
            "cell_type": "code",
            "source": "tables= soup.find_all('table') # find all html tables in webpage",
            "execution_count": 6,
            "outputs": []
        },
        {
            "metadata": {},
            "cell_type": "code",
            "source": "len(tables) # we can check how any tables",
            "execution_count": 7,
            "outputs": [
                {
                    "output_type": "execute_result",
                    "execution_count": 7,
                    "data": {
                        "text/plain": "26"
                    },
                    "metadata": {}
                }
            ]
        },
        {
            "metadata": {},
            "cell_type": "code",
            "source": "for index,table in enumerate(tables):    #this method sometimes didn't work\n    if(\"if 10 most densely population countries\" in str(table)):\n        table_index=index\nprint(table_index)\n",
            "execution_count": 38,
            "outputs": [
                {
                    "output_type": "stream",
                    "text": "5\n",
                    "name": "stdout"
                }
            ]
        },
        {
            "metadata": {},
            "cell_type": "code",
            "source": "print(tables[table_index].prettify())",
            "execution_count": 40,
            "outputs": [
                {
                    "output_type": "stream",
                    "text": "<table class=\"wikitable sortable\" style=\"text-align:right\">\n <caption>\n  10 most densely populated countries\n  <small>\n   (with population above 5 million)\n  </small>\n </caption>\n <tbody>\n  <tr>\n   <th>\n    Rank\n   </th>\n   <th>\n    Country\n   </th>\n   <th>\n    Population\n   </th>\n   <th>\n    Area\n    <br/>\n    <small>\n     (km\n     <sup>\n      2\n     </sup>\n     )\n    </small>\n   </th>\n   <th>\n    Density\n    <br/>\n    <small>\n     (pop/km\n     <sup>\n      2\n     </sup>\n     )\n    </small>\n   </th>\n  </tr>\n  <tr>\n   <td>\n    1\n   </td>\n   <td align=\"left\">\n    <span class=\"flagicon\">\n     <img alt=\"\" class=\"thumbborder\" data-file-height=\"3456\" data-file-width=\"5184\" decoding=\"async\" height=\"15\" src=\"//upload.wikimedia.org/wikipedia/commons/thumb/4/48/Flag_of_Singapore.svg/23px-Flag_of_Singapore.svg.png\" srcset=\"//upload.wikimedia.org/wikipedia/commons/thumb/4/48/Flag_of_Singapore.svg/35px-Flag_of_Singapore.svg.png 1.5x, //upload.wikimedia.org/wikipedia/commons/thumb/4/48/Flag_of_Singapore.svg/45px-Flag_of_Singapore.svg.png 2x\" width=\"23\"/>\n    </span>\n    <a href=\"/wiki/Singapore\" title=\"Singapore\">\n     Singapore\n    </a>\n   </td>\n   <td>\n    5,704,000\n   </td>\n   <td>\n    710\n   </td>\n   <td>\n    8,033\n   </td>\n  </tr>\n  <tr>\n   <td>\n    2\n   </td>\n   <td align=\"left\">\n    <span class=\"flagicon\">\n     <img alt=\"\" class=\"thumbborder\" data-file-height=\"600\" data-file-width=\"1000\" decoding=\"async\" height=\"14\" src=\"//upload.wikimedia.org/wikipedia/commons/thumb/f/f9/Flag_of_Bangladesh.svg/23px-Flag_of_Bangladesh.svg.png\" srcset=\"//upload.wikimedia.org/wikipedia/commons/thumb/f/f9/Flag_of_Bangladesh.svg/35px-Flag_of_Bangladesh.svg.png 1.5x, //upload.wikimedia.org/wikipedia/commons/thumb/f/f9/Flag_of_Bangladesh.svg/46px-Flag_of_Bangladesh.svg.png 2x\" width=\"23\"/>\n    </span>\n    <a href=\"/wiki/Bangladesh\" title=\"Bangladesh\">\n     Bangladesh\n    </a>\n   </td>\n   <td>\n    171,440,000\n   </td>\n   <td>\n    143,998\n   </td>\n   <td>\n    1,191\n   </td>\n  </tr>\n  <tr>\n   <td>\n    3\n   </td>\n   <td align=\"left\">\n    <span class=\"flagicon\">\n     <img alt=\"\" class=\"thumbborder\" data-file-height=\"600\" data-file-width=\"900\" decoding=\"async\" height=\"15\" src=\"//upload.wikimedia.org/wikipedia/commons/thumb/5/59/Flag_of_Lebanon.svg/23px-Flag_of_Lebanon.svg.png\" srcset=\"//upload.wikimedia.org/wikipedia/commons/thumb/5/59/Flag_of_Lebanon.svg/35px-Flag_of_Lebanon.svg.png 1.5x, //upload.wikimedia.org/wikipedia/commons/thumb/5/59/Flag_of_Lebanon.svg/45px-Flag_of_Lebanon.svg.png 2x\" width=\"23\"/>\n    </span>\n    <a href=\"/wiki/Lebanon\" title=\"Lebanon\">\n     Lebanon\n    </a>\n   </td>\n   <td>\n    6,856,000\n   </td>\n   <td>\n    10,452\n   </td>\n   <td>\n    656\n   </td>\n  </tr>\n  <tr>\n   <td>\n    4\n   </td>\n   <td align=\"left\">\n    <span class=\"flagicon\">\n     <img alt=\"\" class=\"thumbborder\" data-file-height=\"600\" data-file-width=\"900\" decoding=\"async\" height=\"15\" src=\"//upload.wikimedia.org/wikipedia/commons/thumb/7/72/Flag_of_the_Republic_of_China.svg/23px-Flag_of_the_Republic_of_China.svg.png\" srcset=\"//upload.wikimedia.org/wikipedia/commons/thumb/7/72/Flag_of_the_Republic_of_China.svg/35px-Flag_of_the_Republic_of_China.svg.png 1.5x, //upload.wikimedia.org/wikipedia/commons/thumb/7/72/Flag_of_the_Republic_of_China.svg/45px-Flag_of_the_Republic_of_China.svg.png 2x\" width=\"23\"/>\n    </span>\n    <a href=\"/wiki/Taiwan\" title=\"Taiwan\">\n     Taiwan\n    </a>\n   </td>\n   <td>\n    23,604,000\n   </td>\n   <td>\n    36,193\n   </td>\n   <td>\n    652\n   </td>\n  </tr>\n  <tr>\n   <td>\n    5\n   </td>\n   <td align=\"left\">\n    <span class=\"flagicon\">\n     <img alt=\"\" class=\"thumbborder\" data-file-height=\"600\" data-file-width=\"900\" decoding=\"async\" height=\"15\" src=\"//upload.wikimedia.org/wikipedia/commons/thumb/0/09/Flag_of_South_Korea.svg/23px-Flag_of_South_Korea.svg.png\" srcset=\"//upload.wikimedia.org/wikipedia/commons/thumb/0/09/Flag_of_South_Korea.svg/35px-Flag_of_South_Korea.svg.png 1.5x, //upload.wikimedia.org/wikipedia/commons/thumb/0/09/Flag_of_South_Korea.svg/45px-Flag_of_South_Korea.svg.png 2x\" width=\"23\"/>\n    </span>\n    <a href=\"/wiki/South_Korea\" title=\"South Korea\">\n     South Korea\n    </a>\n   </td>\n   <td>\n    51,781,000\n   </td>\n   <td>\n    99,538\n   </td>\n   <td>\n    520\n   </td>\n  </tr>\n  <tr>\n   <td>\n    6\n   </td>\n   <td align=\"left\">\n    <span class=\"flagicon\">\n     <img alt=\"\" class=\"thumbborder\" data-file-height=\"720\" data-file-width=\"1080\" decoding=\"async\" height=\"15\" src=\"//upload.wikimedia.org/wikipedia/commons/thumb/1/17/Flag_of_Rwanda.svg/23px-Flag_of_Rwanda.svg.png\" srcset=\"//upload.wikimedia.org/wikipedia/commons/thumb/1/17/Flag_of_Rwanda.svg/35px-Flag_of_Rwanda.svg.png 1.5x, //upload.wikimedia.org/wikipedia/commons/thumb/1/17/Flag_of_Rwanda.svg/45px-Flag_of_Rwanda.svg.png 2x\" width=\"23\"/>\n    </span>\n    <a href=\"/wiki/Rwanda\" title=\"Rwanda\">\n     Rwanda\n    </a>\n   </td>\n   <td>\n    12,374,000\n   </td>\n   <td>\n    26,338\n   </td>\n   <td>\n    470\n   </td>\n  </tr>\n  <tr>\n   <td>\n    7\n   </td>\n   <td align=\"left\">\n    <span class=\"flagicon\">\n     <img alt=\"\" class=\"thumbborder\" data-file-height=\"600\" data-file-width=\"1000\" decoding=\"async\" height=\"14\" src=\"//upload.wikimedia.org/wikipedia/commons/thumb/5/56/Flag_of_Haiti.svg/23px-Flag_of_Haiti.svg.png\" srcset=\"//upload.wikimedia.org/wikipedia/commons/thumb/5/56/Flag_of_Haiti.svg/35px-Flag_of_Haiti.svg.png 1.5x, //upload.wikimedia.org/wikipedia/commons/thumb/5/56/Flag_of_Haiti.svg/46px-Flag_of_Haiti.svg.png 2x\" width=\"23\"/>\n    </span>\n    <a href=\"/wiki/Haiti\" title=\"Haiti\">\n     Haiti\n    </a>\n   </td>\n   <td>\n    11,578,000\n   </td>\n   <td>\n    27,065\n   </td>\n   <td>\n    428\n   </td>\n  </tr>\n  <tr>\n   <td>\n    8\n   </td>\n   <td align=\"left\">\n    <span class=\"flagicon\">\n     <img alt=\"\" class=\"thumbborder\" data-file-height=\"600\" data-file-width=\"900\" decoding=\"async\" height=\"15\" src=\"//upload.wikimedia.org/wikipedia/commons/thumb/2/20/Flag_of_the_Netherlands.svg/23px-Flag_of_the_Netherlands.svg.png\" srcset=\"//upload.wikimedia.org/wikipedia/commons/thumb/2/20/Flag_of_the_Netherlands.svg/35px-Flag_of_the_Netherlands.svg.png 1.5x, //upload.wikimedia.org/wikipedia/commons/thumb/2/20/Flag_of_the_Netherlands.svg/45px-Flag_of_the_Netherlands.svg.png 2x\" width=\"23\"/>\n    </span>\n    <a href=\"/wiki/Netherlands\" title=\"Netherlands\">\n     Netherlands\n    </a>\n   </td>\n   <td>\n    17,640,000\n   </td>\n   <td>\n    41,526\n   </td>\n   <td>\n    425\n   </td>\n  </tr>\n  <tr>\n   <td>\n    9\n   </td>\n   <td align=\"left\">\n    <span class=\"flagicon\">\n     <img alt=\"\" class=\"thumbborder\" data-file-height=\"800\" data-file-width=\"1100\" decoding=\"async\" height=\"15\" src=\"//upload.wikimedia.org/wikipedia/commons/thumb/d/d4/Flag_of_Israel.svg/21px-Flag_of_Israel.svg.png\" srcset=\"//upload.wikimedia.org/wikipedia/commons/thumb/d/d4/Flag_of_Israel.svg/32px-Flag_of_Israel.svg.png 1.5x, //upload.wikimedia.org/wikipedia/commons/thumb/d/d4/Flag_of_Israel.svg/41px-Flag_of_Israel.svg.png 2x\" width=\"21\"/>\n    </span>\n    <a href=\"/wiki/Israel\" title=\"Israel\">\n     Israel\n    </a>\n   </td>\n   <td>\n    9,410,000\n   </td>\n   <td>\n    22,072\n   </td>\n   <td>\n    426\n   </td>\n  </tr>\n  <tr>\n   <td>\n    10\n   </td>\n   <td align=\"left\">\n    <span class=\"flagicon\">\n     <img alt=\"\" class=\"thumbborder\" data-file-height=\"900\" data-file-width=\"1350\" decoding=\"async\" height=\"15\" src=\"//upload.wikimedia.org/wikipedia/en/thumb/4/41/Flag_of_India.svg/23px-Flag_of_India.svg.png\" srcset=\"//upload.wikimedia.org/wikipedia/en/thumb/4/41/Flag_of_India.svg/35px-Flag_of_India.svg.png 1.5x, //upload.wikimedia.org/wikipedia/en/thumb/4/41/Flag_of_India.svg/45px-Flag_of_India.svg.png 2x\" width=\"23\"/>\n    </span>\n    <a href=\"/wiki/India\" title=\"India\">\n     India\n    </a>\n   </td>\n   <td>\n    1,382,520,000\n   </td>\n   <td>\n    3,287,240\n   </td>\n   <td>\n    421\n   </td>\n  </tr>\n </tbody>\n</table>\n\n",
                    "name": "stdout"
                }
            ]
        },
        {
            "metadata": {},
            "cell_type": "code",
            "source": "population_data= pd.DataFrame(columns=[\"Rank\",\"Country\",\"Population\",\"Area\",\"Density\"])\n\nfor row in tables[table_index].tbody.find_all(\"tr\"):\n    col=row.find_all('td')\n    if(col!=[]):\n        rank=col[0].text\n        country=col[1].text\n        population=col[2].text.strip()\n        area=col[3].text.strip()\n        density=col[4].text.strip()\n        population_data=population_data.append({\"Rank\":rank,\"Country\":country,\"population\":population,\"Area\":area,\"Density\":density},ignore_index=True)\n        \npopulation_data",
            "execution_count": 42,
            "outputs": [
                {
                    "output_type": "execute_result",
                    "execution_count": 42,
                    "data": {
                        "text/plain": "  Rank       Country Population       Area Density     population\n0    1    \u00a0Singapore        NaN        710   8,033      5,704,000\n1    2   \u00a0Bangladesh        NaN    143,998   1,191    171,440,000\n2    3      \u00a0Lebanon        NaN     10,452     656      6,856,000\n3    4       \u00a0Taiwan        NaN     36,193     652     23,604,000\n4    5  \u00a0South Korea        NaN     99,538     520     51,781,000\n5    6       \u00a0Rwanda        NaN     26,338     470     12,374,000\n6    7        \u00a0Haiti        NaN     27,065     428     11,578,000\n7    8  \u00a0Netherlands        NaN     41,526     425     17,640,000\n8    9       \u00a0Israel        NaN     22,072     426      9,410,000\n9   10        \u00a0India        NaN  3,287,240     421  1,382,520,000",
                        "text/html": "<div>\n<style scoped>\n    .dataframe tbody tr th:only-of-type {\n        vertical-align: middle;\n    }\n\n    .dataframe tbody tr th {\n        vertical-align: top;\n    }\n\n    .dataframe thead th {\n        text-align: right;\n    }\n</style>\n<table border=\"1\" class=\"dataframe\">\n  <thead>\n    <tr style=\"text-align: right;\">\n      <th></th>\n      <th>Rank</th>\n      <th>Country</th>\n      <th>Population</th>\n      <th>Area</th>\n      <th>Density</th>\n      <th>population</th>\n    </tr>\n  </thead>\n  <tbody>\n    <tr>\n      <th>0</th>\n      <td>1</td>\n      <td>Singapore</td>\n      <td>NaN</td>\n      <td>710</td>\n      <td>8,033</td>\n      <td>5,704,000</td>\n    </tr>\n    <tr>\n      <th>1</th>\n      <td>2</td>\n      <td>Bangladesh</td>\n      <td>NaN</td>\n      <td>143,998</td>\n      <td>1,191</td>\n      <td>171,440,000</td>\n    </tr>\n    <tr>\n      <th>2</th>\n      <td>3</td>\n      <td>Lebanon</td>\n      <td>NaN</td>\n      <td>10,452</td>\n      <td>656</td>\n      <td>6,856,000</td>\n    </tr>\n    <tr>\n      <th>3</th>\n      <td>4</td>\n      <td>Taiwan</td>\n      <td>NaN</td>\n      <td>36,193</td>\n      <td>652</td>\n      <td>23,604,000</td>\n    </tr>\n    <tr>\n      <th>4</th>\n      <td>5</td>\n      <td>South Korea</td>\n      <td>NaN</td>\n      <td>99,538</td>\n      <td>520</td>\n      <td>51,781,000</td>\n    </tr>\n    <tr>\n      <th>5</th>\n      <td>6</td>\n      <td>Rwanda</td>\n      <td>NaN</td>\n      <td>26,338</td>\n      <td>470</td>\n      <td>12,374,000</td>\n    </tr>\n    <tr>\n      <th>6</th>\n      <td>7</td>\n      <td>Haiti</td>\n      <td>NaN</td>\n      <td>27,065</td>\n      <td>428</td>\n      <td>11,578,000</td>\n    </tr>\n    <tr>\n      <th>7</th>\n      <td>8</td>\n      <td>Netherlands</td>\n      <td>NaN</td>\n      <td>41,526</td>\n      <td>425</td>\n      <td>17,640,000</td>\n    </tr>\n    <tr>\n      <th>8</th>\n      <td>9</td>\n      <td>Israel</td>\n      <td>NaN</td>\n      <td>22,072</td>\n      <td>426</td>\n      <td>9,410,000</td>\n    </tr>\n    <tr>\n      <th>9</th>\n      <td>10</td>\n      <td>India</td>\n      <td>NaN</td>\n      <td>3,287,240</td>\n      <td>421</td>\n      <td>1,382,520,000</td>\n    </tr>\n  </tbody>\n</table>\n</div>"
                    },
                    "metadata": {}
                }
            ]
        },
        {
            "metadata": {},
            "cell_type": "markdown",
            "source": "# Summary\nIn this lab we learnes about scraping data from table and convert ad Data frame using pandas"
        }
    ],
    "metadata": {
        "kernelspec": {
            "name": "python3",
            "display_name": "Python 3.8",
            "language": "python"
        },
        "language_info": {
            "name": "python",
            "version": "3.8.11",
            "mimetype": "text/x-python",
            "codemirror_mode": {
                "name": "ipython",
                "version": 3
            },
            "pygments_lexer": "ipython3",
            "nbconvert_exporter": "python",
            "file_extension": ".py"
        }
    },
    "nbformat": 4,
    "nbformat_minor": 1
}