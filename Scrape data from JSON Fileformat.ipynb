{
    "cells": [
        {
            "metadata": {
                "collapsed": true
            },
            "cell_type": "markdown",
            "source": "# Scrape data from JSON\n* JavaScript Object Notation\n* import json\n* light weight data-interchange format.\n* 2 structures\n  * collection of name or value pairs\n  * oredered list of values\n* language independent daat format\n* similar to dictionary in python\n* serialization and Deserialization\n* serialization is a process of converting object into a special format which is suitable for transmitting over the network or storing in file or database\n* use dump() or dumps()\n* dump() for writing file to json\n* dumps() for converting dictionary to json\n* dump() syntax:\n    json.dump(dic,file_pointer)\n    dic= name of dictionary which convert to JSON\n    file-pointer= write/append mode\n* dumps() syntax:\n    json.dumps(dic,indent)\n    dic= name of dictionary to convert to json\n    indent= defines the number of units for indentation\n* to deserialize we use load() function"
        },
        {
            "metadata": {},
            "cell_type": "code",
            "source": "import json\nperson={\n    'x': 10,\n    'name':'veena',\n    'address' :  {\n        'city':'dubai',\n        'country':'uae'}\n}",
            "execution_count": 18,
            "outputs": []
        },
        {
            "metadata": {},
            "cell_type": "code",
            "source": "with open('person.json','w') as f:\n    json.dump(person,f)",
            "execution_count": 19,
            "outputs": []
        },
        {
            "metadata": {},
            "cell_type": "code",
            "source": "json_object=json.dumps(person,indent=4)\nwith open('sample.json','w')as outfile:\n    outfile.write(json_object)\n    print(json_object)\n    ",
            "execution_count": 21,
            "outputs": [
                {
                    "output_type": "stream",
                    "text": "{\n    \"x\": 10,\n    \"name\": \"veena\",\n    \"address\": {\n        \"city\": \"dubai\",\n        \"country\": \"uae\"\n    }\n}\n",
                    "name": "stdout"
                }
            ]
        },
        {
            "metadata": {},
            "cell_type": "code",
            "source": "with open('sample.json','r')as openfile:      # deserialization\n    json_object=json.load(openfile)\n    print(json_object)\n    print(type(json_object))",
            "execution_count": 22,
            "outputs": [
                {
                    "output_type": "stream",
                    "text": "{'x': 10, 'name': 'veena', 'address': {'city': 'dubai', 'country': 'uae'}}\n<class 'dict'>\n",
                    "name": "stdout"
                }
            ]
        },
        {
            "metadata": {},
            "cell_type": "code",
            "source": "",
            "execution_count": null,
            "outputs": []
        }
    ],
    "metadata": {
        "kernelspec": {
            "name": "python3",
            "display_name": "Python 3.8",
            "language": "python"
        },
        "language_info": {
            "name": "python",
            "version": "3.8.11",
            "mimetype": "text/x-python",
            "codemirror_mode": {
                "name": "ipython",
                "version": 3
            },
            "pygments_lexer": "ipython3",
            "nbconvert_exporter": "python",
            "file_extension": ".py"
        }
    },
    "nbformat": 4,
    "nbformat_minor": 1
}