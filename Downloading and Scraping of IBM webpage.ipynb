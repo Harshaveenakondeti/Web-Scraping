{
    "cells": [
        {
            "metadata": {
                "collapsed": true
            },
            "cell_type": "markdown",
            "source": "# Download and Scraping the contents of Web page\nHere we use IMB webpage"
        },
        {
            "metadata": {},
            "cell_type": "code",
            "source": "# install packages\n!pip install requests\n!pip install bs4",
            "execution_count": 1,
            "outputs": [
                {
                    "output_type": "stream",
                    "text": "Requirement already satisfied: requests in /opt/conda/envs/Python-3.8-main/lib/python3.8/site-packages (2.25.1)\nRequirement already satisfied: chardet<5,>=3.0.2 in /opt/conda/envs/Python-3.8-main/lib/python3.8/site-packages (from requests) (3.0.4)\nRequirement already satisfied: certifi>=2017.4.17 in /opt/conda/envs/Python-3.8-main/lib/python3.8/site-packages (from requests) (2021.5.30)\nRequirement already satisfied: idna<3,>=2.5 in /opt/conda/envs/Python-3.8-main/lib/python3.8/site-packages (from requests) (2.8)\nRequirement already satisfied: urllib3<1.27,>=1.21.1 in /opt/conda/envs/Python-3.8-main/lib/python3.8/site-packages (from requests) (1.26.6)\nRequirement already satisfied: bs4 in /opt/conda/envs/Python-3.8-main/lib/python3.8/site-packages (0.0.1)\nRequirement already satisfied: beautifulsoup4 in /opt/conda/envs/Python-3.8-main/lib/python3.8/site-packages (from bs4) (4.9.3)\nRequirement already satisfied: soupsieve>1.2 in /opt/conda/envs/Python-3.8-main/lib/python3.8/site-packages (from beautifulsoup4->bs4) (2.2.1)\n",
                    "name": "stdout"
                }
            ]
        },
        {
            "metadata": {},
            "cell_type": "code",
            "source": "# import packages\nimport requests\nfrom bs4 import BeautifulSoup",
            "execution_count": 2,
            "outputs": []
        },
        {
            "metadata": {},
            "cell_type": "code",
            "source": "url=\"http://www.ibm.com\" \ndata= requests.get(url).text # download contents of webpage by get in textformata and store in data",
            "execution_count": 3,
            "outputs": []
        },
        {
            "metadata": {},
            "cell_type": "code",
            "source": "soup= BeautifulSoup(data,'html5lib')#parse data",
            "execution_count": 4,
            "outputs": []
        },
        {
            "metadata": {},
            "cell_type": "code",
            "source": "# scrape all links\nfor link in soup.find_all('a',href=True):# in html link is represented by <a>\n    print(link.get('href'))",
            "execution_count": 5,
            "outputs": [
                {
                    "output_type": "stream",
                    "text": "https://www.ibm.com/jp/ja\nhttps://www.ibm.com/sitemap/jp/ja\nhttps://www.ibm.com/ibm/jp/ja/events/think-summit/?lnk=jphpv18l1&lnk2=learn\nhttps://www.ibm.com/thought-leadership/jp-ja/institute-business-value/report/quantum-decade/?lnk=hpv18nf1\nhttps://www.ibm.com/think/jp-ja/business/scm-2021/?lnk=jphpv18f1&lnk2=learn\nhttps://www.ibm.com/ibm/environment/jp-ja/?lnk=jphpv18f2&lnk2=learn\nhttps://www.ibm.com/jp-ja/events/x-online?lnk=jphpv18f3&lnk2=learn\n/jp-ja/products/trials?lnk=STW_JP_HPT_C1_TL&lnk2=trial_THP&psrc=none&pexp=def\nhttps://www.ibm.com/jp-ja/cloud/instana?lnk=STW_JP_HPT_T1_BTN&lnk2=trial_Instana&psrc=none&pexp=def\n/jp-ja/products/mq?lnk=STW_JP_HPT_T1_BTN&lnk2=trial_MQ&psrc=none&pexp=def\n/jp-ja/cloud/aspera?lnk=STW_JP_HPT_T2_BTN&lnk2=trial_Aspera&psrc=none&pexp=def\n/jp-ja/products/storage-suite-for-ibm-cloud-paks?lnk=STW_JP_HPT_T3_BTN&lnk2=trial_SSCP&psrc=none&pexp=def\n/jp-ja/cloud/hybrid?lnk=hpv18pt14\n/cloud/learn/public-cloud?lnk=hpv18ct1\n/jp-ja/watson?lnk=ushpv18pt17\n/jp-ja/garage?lnk=hpv18pt13\n/jp-ja/blockchain?lnk=hpv18pt4\nhttps://www.ibm.com/jp-ja/analytics?lnk=hpv18pt1\n/jp-ja/security?lnk=hpv18pt9\n/jp-ja/quantum-computing?lnk=hpv18pt16\n/jp-ja/financing?lnk=hpv18pt3\nhttps://www.ibm.com/services/jp-ja/studies/thoughtleadership/?lnk=hpv18pt12\nhttps://developer.ibm.com/depmodels/cloud/?lnk=hpv18ct16\nhttps://developer.ibm.com/technologies/artificial-intelligence?lnk=hpv18ct19\nhttps://www.ibm.com/demos/?lc=ja&lnk=hpv18ct12\nhttps://developer.ibm.com/?lnk=hpv18ct9\nhttps://www.ibm.com/support/knowledgecenter/ja/?lnk=hpv18ct14\nhttps://www.redbooks.ibm.com/?lnk=ushpv18ct10\nhttps://www.ibm.com/mysupport/s/?language=ja&lnk=hpv18ct11\nhttps://www.ibm.com/training/?lnk=hpv18ct15\n/jp-ja/smarter-business?lnk=hpv18ct20\n/jp-ja/cloud/application-modernization?lnk=hpv18ct1\n/jp-ja/cloud/redhat?lnk=hpv18ct13\n/jp-ja/watson?lnk=hpv18ct3\n/jp-ja/quantum-computing?lnk=hpv18ct18\n/jp-ja/cloud/kubernetes-service?lnk=hpv18ct8\n/jp-ja/products/spss-statistics?lnk=ushpv18ct7\nhttps://www.ibm.com/jp-ja/employment/?lnk=hpv18ct2\n/jp-ja/quantum-computing?lnk=hpv18cs1\nhttps://www.ibm.com/industries/jp/ja/case-studies/?lnk=hpv18cs2\n#\n",
                    "name": "stdout"
                }
            ]
        },
        {
            "metadata": {},
            "cell_type": "code",
            "source": "# scrape all images Tags\nfor link in soup.find_all('img'):# in html image is represented by tag <img>\n    print(link)\n    print(link.get('src'))",
            "execution_count": 7,
            "outputs": [
                {
                    "output_type": "stream",
                    "text": "<img alt=\"\u65e5\u672cIBM \u5fd7\u7530\u6c0f\u3068\u65b0\u5d8b\u6c0f\" class=\"\" loading=\"lazy\" src=\"//1.cms.s81c.com/sites/default/files/2021-09-24/this-week-at-ibm-supplychain-20210927-444x254.jpg\"/>\n//1.cms.s81c.com/sites/default/files/2021-09-24/this-week-at-ibm-supplychain-20210927-444x254.jpg\n<img alt=\"\u624b\u306e\u3072\u3089\u3067\u690d\u7269\u306e\u76ee\u3092\u305d\u3063\u3068\u5305\u307f\u8fbc\u3093\u3067\u3044\u308b\" class=\"\" loading=\"lazy\" src=\"//1.cms.s81c.com/sites/default/files/2021-09-24/this-week-at-ibm-environment-20210927-444x254.jpg\"/>\n//1.cms.s81c.com/sites/default/files/2021-09-24/this-week-at-ibm-environment-20210927-444x254.jpg\n<img alt=\"x-online\u306e\u753b\u9762\u30ad\u30e3\u30d7\u30c1\u30e3\" class=\"\" loading=\"lazy\" src=\"//1.cms.s81c.com/sites/default/files/2021-08-23/this-week-at-ibm-x-online-20210823.jpg\"/>\n//1.cms.s81c.com/sites/default/files/2021-08-23/this-week-at-ibm-x-online-20210823.jpg\n<img alt=\"Instana\u753b\u9762\u30ad\u30e3\u30d7\u30c1\u30e3\" class=\"\" loading=\"lazy\" src=\"//1.cms.s81c.com/sites/default/files/2021-09-15/Instana-trial-444x260.png\"/>\n//1.cms.s81c.com/sites/default/files/2021-09-15/Instana-trial-444x260.png\n<img alt=\"IBM MQ\u30da\u30fc\u30b8\u306e\u30b9\u30af\u30ea\u30fc\u30f3\u30b7\u30e7\u30c3\u30c8\" class=\"\" loading=\"lazy\" src=\"//1.cms.s81c.com/sites/default/files/2021-06-11/mq-trial.png\"/>\n//1.cms.s81c.com/sites/default/files/2021-06-11/mq-trial.png\n<img alt=\"IBM Aspera on Cloud\u306e\u30b9\u30af\u30ea\u30fc\u30f3\u30b7\u30e7\u30c3\u30c8\" class=\"\" loading=\"lazy\" src=\"//1.cms.s81c.com/sites/default/files/2021-06-11/aspera-trial.png\"/>\n//1.cms.s81c.com/sites/default/files/2021-06-11/aspera-trial.png\n<img alt=\"Storage Suite for IBM Cloud Paks\u306e\u30b9\u30af\u30ea\u30fc\u30f3\u30fb\u30b7\u30e7\u30c3\u30c8\" class=\"\" loading=\"lazy\" src=\"//1.cms.s81c.com/sites/default/files/2021-04-08/storage-suite-for-cloud-pak-trial.png\"/>\n//1.cms.s81c.com/sites/default/files/2021-04-08/storage-suite-for-cloud-pak-trial.png\n",
                    "name": "stdout"
                }
            ]
        },
        {
            "metadata": {},
            "cell_type": "markdown",
            "source": "# Summary\nIn this lab we have learned download data and scrape all links and all images"
        },
        {
            "metadata": {},
            "cell_type": "code",
            "source": "",
            "execution_count": null,
            "outputs": []
        }
    ],
    "metadata": {
        "kernelspec": {
            "name": "python3",
            "display_name": "Python 3.8",
            "language": "python"
        },
        "language_info": {
            "name": "python",
            "version": "3.8.11",
            "mimetype": "text/x-python",
            "codemirror_mode": {
                "name": "ipython",
                "version": 3
            },
            "pygments_lexer": "ipython3",
            "nbconvert_exporter": "python",
            "file_extension": ".py"
        }
    },
    "nbformat": 4,
    "nbformat_minor": 1
}