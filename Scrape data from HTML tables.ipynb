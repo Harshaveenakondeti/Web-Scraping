{
    "cells": [
        {
            "metadata": {
                "collapsed": true
            },
            "cell_type": "markdown",
            "source": "# Scrape data from HTML tables\nHere, we scrape webpage containing tables"
        },
        {
            "metadata": {},
            "cell_type": "code",
            "source": "!pip install requests\n!pip install bs4",
            "execution_count": 1,
            "outputs": [
                {
                    "output_type": "stream",
                    "text": "Requirement already satisfied: requests in /opt/conda/envs/Python-3.8-main/lib/python3.8/site-packages (2.25.1)\nRequirement already satisfied: certifi>=2017.4.17 in /opt/conda/envs/Python-3.8-main/lib/python3.8/site-packages (from requests) (2021.5.30)\nRequirement already satisfied: idna<3,>=2.5 in /opt/conda/envs/Python-3.8-main/lib/python3.8/site-packages (from requests) (2.8)\nRequirement already satisfied: chardet<5,>=3.0.2 in /opt/conda/envs/Python-3.8-main/lib/python3.8/site-packages (from requests) (3.0.4)\nRequirement already satisfied: urllib3<1.27,>=1.21.1 in /opt/conda/envs/Python-3.8-main/lib/python3.8/site-packages (from requests) (1.26.6)\nRequirement already satisfied: bs4 in /opt/conda/envs/Python-3.8-main/lib/python3.8/site-packages (0.0.1)\nRequirement already satisfied: beautifulsoup4 in /opt/conda/envs/Python-3.8-main/lib/python3.8/site-packages (from bs4) (4.9.3)\nRequirement already satisfied: soupsieve>1.2 in /opt/conda/envs/Python-3.8-main/lib/python3.8/site-packages (from beautifulsoup4->bs4) (2.2.1)\n",
                    "name": "stdout"
                }
            ]
        },
        {
            "metadata": {},
            "cell_type": "code",
            "source": "import requests\nfrom bs4 import BeautifulSoup",
            "execution_count": 2,
            "outputs": []
        },
        {
            "metadata": {},
            "cell_type": "code",
            "source": "url = \"https://cf-courses-data.s3.us.cloud-object-storage.appdomain.cloud/IBM-DA0321EN-SkillsNetwork/labs/datasets/HTMLColorCodes.html\"\ndata= requests.get(url).text",
            "execution_count": 3,
            "outputs": []
        },
        {
            "metadata": {},
            "cell_type": "code",
            "source": "soup=BeautifulSoup(data,'html5lib')",
            "execution_count": 4,
            "outputs": []
        },
        {
            "metadata": {},
            "cell_type": "code",
            "source": "# find a table in webpage\ntable=soup.find('table')  # in html table is represented by <html>\n# get all rows from table\nfor row in table.find_all('tr'): # in html rows is represented by <tr>\n    #get all columns in row\n    cols= row.find_all('td')# in html columns is represented by<td>\n    color_name=cols[2].string# store values in colums 3 as color name\n    color_code=cols[3].string # store values in column 4 as color code\n    print(\"{}----{}\".format(color_name,color_code))\n    ",
            "execution_count": 5,
            "outputs": [
                {
                    "output_type": "stream",
                    "text": "Color Name----None\nlightsalmon----#FFA07A\nsalmon----#FA8072\ndarksalmon----#E9967A\nlightcoral----#F08080\ncoral----#FF7F50\ntomato----#FF6347\norangered----#FF4500\ngold----#FFD700\norange----#FFA500\ndarkorange----#FF8C00\nlightyellow----#FFFFE0\nlemonchiffon----#FFFACD\npapayawhip----#FFEFD5\nmoccasin----#FFE4B5\npeachpuff----#FFDAB9\npalegoldenrod----#EEE8AA\nkhaki----#F0E68C\ndarkkhaki----#BDB76B\nyellow----#FFFF00\nlawngreen----#7CFC00\nchartreuse----#7FFF00\nlimegreen----#32CD32\nlime----#00FF00\nforestgreen----#228B22\ngreen----#008000\npowderblue----#B0E0E6\nlightblue----#ADD8E6\nlightskyblue----#87CEFA\nskyblue----#87CEEB\ndeepskyblue----#00BFFF\nlightsteelblue----#B0C4DE\ndodgerblue----#1E90FF\n",
                    "name": "stdout"
                }
            ]
        },
        {
            "metadata": {},
            "cell_type": "markdown",
            "source": "# Summary\nIn this lab we have learned abount scraping data from tables,scraping all rows, scraping al columns."
        }
    ],
    "metadata": {
        "kernelspec": {
            "name": "python3",
            "display_name": "Python 3.8",
            "language": "python"
        },
        "language_info": {
            "name": "python",
            "version": "3.8.11",
            "mimetype": "text/x-python",
            "codemirror_mode": {
                "name": "ipython",
                "version": 3
            },
            "pygments_lexer": "ipython3",
            "nbconvert_exporter": "python",
            "file_extension": ".py"
        }
    },
    "nbformat": 4,
    "nbformat_minor": 1
}