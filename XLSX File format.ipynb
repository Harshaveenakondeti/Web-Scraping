{
    "cells": [
        {
            "metadata": {
                "collapsed": true
            },
            "cell_type": "markdown",
            "source": "# XLSX Fileformat\n* spreadsheet fileformat\n* Microsoft Excel Open XML\n* XML-Extensible Markup Language\n* pandas cannot read so we use other modules to read and load into pandas\n\nReading data from XLSX File"
        },
        {
            "metadata": {},
            "cell_type": "code",
            "source": "import pandas as pd\nimport urllib.request",
            "execution_count": 1,
            "outputs": []
        },
        {
            "metadata": {},
            "cell_type": "code",
            "source": "urllib.request.urlretrieve(\"https://cf-courses-data.s3.us.cloud-object-storage.appdomain.cloud/IBMDeveloperSkillsNetwork-PY0101EN-SkillsNetwork/labs/Module%205/data/file_example_XLSX_10.xlsx\", \"sample.xlsx\")\ndf=pd.read_excel('sample.xlsx')\ndf",
            "execution_count": 4,
            "outputs": [
                {
                    "output_type": "execute_result",
                    "execution_count": 4,
                    "data": {
                        "text/plain": "   0 First Name  Last Name  Gender        Country  Age        Date    Id\n0  1      Dulce      Abril  Female  United States   32  15/10/2017  1562\n1  2       Mara  Hashimoto  Female  Great Britain   25  16/08/2016  1582\n2  3     Philip       Gent    Male         France   36  21/05/2015  2587\n3  4   Kathleen     Hanner  Female  United States   25  15/10/2017  3549\n4  5    Nereida    Magwood  Female  United States   58  16/08/2016  2468\n5  6     Gaston      Brumm    Male  United States   24  21/05/2015  2554\n6  7       Etta       Hurn  Female  Great Britain   56  15/10/2017  3598\n7  8    Earlean     Melgar  Female  United States   27  16/08/2016  2456\n8  9   Vincenza    Weiland  Female  United States   40  21/05/2015  6548",
                        "text/html": "<div>\n<style scoped>\n    .dataframe tbody tr th:only-of-type {\n        vertical-align: middle;\n    }\n\n    .dataframe tbody tr th {\n        vertical-align: top;\n    }\n\n    .dataframe thead th {\n        text-align: right;\n    }\n</style>\n<table border=\"1\" class=\"dataframe\">\n  <thead>\n    <tr style=\"text-align: right;\">\n      <th></th>\n      <th>0</th>\n      <th>First Name</th>\n      <th>Last Name</th>\n      <th>Gender</th>\n      <th>Country</th>\n      <th>Age</th>\n      <th>Date</th>\n      <th>Id</th>\n    </tr>\n  </thead>\n  <tbody>\n    <tr>\n      <th>0</th>\n      <td>1</td>\n      <td>Dulce</td>\n      <td>Abril</td>\n      <td>Female</td>\n      <td>United States</td>\n      <td>32</td>\n      <td>15/10/2017</td>\n      <td>1562</td>\n    </tr>\n    <tr>\n      <th>1</th>\n      <td>2</td>\n      <td>Mara</td>\n      <td>Hashimoto</td>\n      <td>Female</td>\n      <td>Great Britain</td>\n      <td>25</td>\n      <td>16/08/2016</td>\n      <td>1582</td>\n    </tr>\n    <tr>\n      <th>2</th>\n      <td>3</td>\n      <td>Philip</td>\n      <td>Gent</td>\n      <td>Male</td>\n      <td>France</td>\n      <td>36</td>\n      <td>21/05/2015</td>\n      <td>2587</td>\n    </tr>\n    <tr>\n      <th>3</th>\n      <td>4</td>\n      <td>Kathleen</td>\n      <td>Hanner</td>\n      <td>Female</td>\n      <td>United States</td>\n      <td>25</td>\n      <td>15/10/2017</td>\n      <td>3549</td>\n    </tr>\n    <tr>\n      <th>4</th>\n      <td>5</td>\n      <td>Nereida</td>\n      <td>Magwood</td>\n      <td>Female</td>\n      <td>United States</td>\n      <td>58</td>\n      <td>16/08/2016</td>\n      <td>2468</td>\n    </tr>\n    <tr>\n      <th>5</th>\n      <td>6</td>\n      <td>Gaston</td>\n      <td>Brumm</td>\n      <td>Male</td>\n      <td>United States</td>\n      <td>24</td>\n      <td>21/05/2015</td>\n      <td>2554</td>\n    </tr>\n    <tr>\n      <th>6</th>\n      <td>7</td>\n      <td>Etta</td>\n      <td>Hurn</td>\n      <td>Female</td>\n      <td>Great Britain</td>\n      <td>56</td>\n      <td>15/10/2017</td>\n      <td>3598</td>\n    </tr>\n    <tr>\n      <th>7</th>\n      <td>8</td>\n      <td>Earlean</td>\n      <td>Melgar</td>\n      <td>Female</td>\n      <td>United States</td>\n      <td>27</td>\n      <td>16/08/2016</td>\n      <td>2456</td>\n    </tr>\n    <tr>\n      <th>8</th>\n      <td>9</td>\n      <td>Vincenza</td>\n      <td>Weiland</td>\n      <td>Female</td>\n      <td>United States</td>\n      <td>40</td>\n      <td>21/05/2015</td>\n      <td>6548</td>\n    </tr>\n  </tbody>\n</table>\n</div>"
                    },
                    "metadata": {}
                }
            ]
        },
        {
            "metadata": {},
            "cell_type": "markdown",
            "source": "# XML Fileformat"
        },
        {
            "metadata": {},
            "cell_type": "code",
            "source": "import xml.etree.ElementTree as ET\n",
            "execution_count": 9,
            "outputs": []
        },
        {
            "metadata": {},
            "cell_type": "code",
            "source": "employee=ET.Element('employee')# creating file structure\ndetails=ET.SubElement(employee,'details')\nfirst=ET.SubElement(details,'first')\nsecond=ET.SubElement(details,'second')\nthird=ET.SubElement(details,'age')\nfirst.text='harsha'\nsecond.text='veena'\nthird.text='22'\nmydata=ET.ElementTree(employee)\n# myfiles=open('items2.xml','wb')\n# myfiles.write(mydata)\nwith open ('new_sample.xml','wb')as files:# create new xml file with results\n    mydata.write(files)",
            "execution_count": 13,
            "outputs": []
        },
        {
            "metadata": {},
            "cell_type": "code",
            "source": "import pandas as pd \n\nimport xml.etree.ElementTree as etree\n\n!wget https://cf-courses-data.s3.us.cloud-object-storage.appdomain.cloud/IBMDeveloperSkillsNetwork-PY0101EN-SkillsNetwork/labs/Module%205/data/Sample-employee-XML-file.xml",
            "execution_count": 18,
            "outputs": [
                {
                    "output_type": "stream",
                    "text": "--2021-10-01 07:19:31--  https://cf-courses-data.s3.us.cloud-object-storage.appdomain.cloud/IBMDeveloperSkillsNetwork-PY0101EN-SkillsNetwork/labs/Module%205/data/Sample-employee-XML-file.xml\nResolving cf-courses-data.s3.us.cloud-object-storage.appdomain.cloud (cf-courses-data.s3.us.cloud-object-storage.appdomain.cloud)... 169.45.118.108\nConnecting to cf-courses-data.s3.us.cloud-object-storage.appdomain.cloud (cf-courses-data.s3.us.cloud-object-storage.appdomain.cloud)|169.45.118.108|:443... connected.\nHTTP request sent, awaiting response... 200 OK\nLength: 1016 [application/xml]\nSaving to: \u2018Sample-employee-XML-file.xml.1\u2019\n\nSample-employee-XML 100%[===================>]    1016  --.-KB/s    in 0s      \n\n2021-10-01 07:19:31 (13.5 MB/s) - \u2018Sample-employee-XML-file.xml.1\u2019 saved [1016/1016]\n\n",
                    "name": "stdout"
                }
            ]
        },
        {
            "metadata": {},
            "cell_type": "code",
            "source": "tree= etree.parse(\"Sample-employee-XML-file.xml\")\nroot=tree.getroot()\ncolumns=['firstname','lastname','title','division','building','room']\ndataframe=pd.DataFrame(columns=columns)\nfor node in root:\n    firstname=node.find(\"firstname\").text\n    lastname=node.find(\"lastname\").text\n    title=node.find(\"title\").text\n    division=node.find(\"division\").text\n    building=node.find(\"building\").text\n    room=node.find(\"room\").text\n    dataframe= dataframe.append(pd.Series([firstname,lastname,title,division,building,room],index=columns),ignore_index=True)\ndataframe",
            "execution_count": 21,
            "outputs": [
                {
                    "output_type": "execute_result",
                    "execution_count": 21,
                    "data": {
                        "text/plain": "  firstname lastname      title  division building room\n0      Shiv   Mishra   Engineer  Computer      301   11\n1       Yuh    Datta  developer  Computer      303   02\n2     Rahil     Khan     Tester  Computer      304   10\n3      Deep   Parekh   Designer  Computer      305   14",
                        "text/html": "<div>\n<style scoped>\n    .dataframe tbody tr th:only-of-type {\n        vertical-align: middle;\n    }\n\n    .dataframe tbody tr th {\n        vertical-align: top;\n    }\n\n    .dataframe thead th {\n        text-align: right;\n    }\n</style>\n<table border=\"1\" class=\"dataframe\">\n  <thead>\n    <tr style=\"text-align: right;\">\n      <th></th>\n      <th>firstname</th>\n      <th>lastname</th>\n      <th>title</th>\n      <th>division</th>\n      <th>building</th>\n      <th>room</th>\n    </tr>\n  </thead>\n  <tbody>\n    <tr>\n      <th>0</th>\n      <td>Shiv</td>\n      <td>Mishra</td>\n      <td>Engineer</td>\n      <td>Computer</td>\n      <td>301</td>\n      <td>11</td>\n    </tr>\n    <tr>\n      <th>1</th>\n      <td>Yuh</td>\n      <td>Datta</td>\n      <td>developer</td>\n      <td>Computer</td>\n      <td>303</td>\n      <td>02</td>\n    </tr>\n    <tr>\n      <th>2</th>\n      <td>Rahil</td>\n      <td>Khan</td>\n      <td>Tester</td>\n      <td>Computer</td>\n      <td>304</td>\n      <td>10</td>\n    </tr>\n    <tr>\n      <th>3</th>\n      <td>Deep</td>\n      <td>Parekh</td>\n      <td>Designer</td>\n      <td>Computer</td>\n      <td>305</td>\n      <td>14</td>\n    </tr>\n  </tbody>\n</table>\n</div>"
                    },
                    "metadata": {}
                }
            ]
        },
        {
            "metadata": {},
            "cell_type": "code",
            "source": "dataframe.to_csv(\"employee.csv\",index=False)",
            "execution_count": 22,
            "outputs": []
        },
        {
            "metadata": {},
            "cell_type": "code",
            "source": "type(dataframe)",
            "execution_count": 24,
            "outputs": [
                {
                    "output_type": "execute_result",
                    "execution_count": 24,
                    "data": {
                        "text/plain": "pandas.core.frame.DataFrame"
                    },
                    "metadata": {}
                }
            ]
        },
        {
            "metadata": {},
            "cell_type": "markdown",
            "source": "|Data Formats|  Read  |   Save|\n|---|---|---|\n|csv|pd.read_csv()|df.to_csv()|\n|json|pd.read_json()| df.to_json()|\n|excel|pd.read_excel()| df.to_excel()|\n|hdf|pd.read_hdf()| df.to_hdf()|\nsql|pd.read_sql()|df.to_sql()|"
        },
        {
            "metadata": {},
            "cell_type": "markdown",
            "source": "This table helps to remember fileformats to save and read in other formats"
        }
    ],
    "metadata": {
        "kernelspec": {
            "name": "python3",
            "display_name": "Python 3.8",
            "language": "python"
        },
        "language_info": {
            "name": "python",
            "version": "3.8.11",
            "mimetype": "text/x-python",
            "codemirror_mode": {
                "name": "ipython",
                "version": 3
            },
            "pygments_lexer": "ipython3",
            "nbconvert_exporter": "python",
            "file_extension": ".py"
        }
    },
    "nbformat": 4,
    "nbformat_minor": 1
}