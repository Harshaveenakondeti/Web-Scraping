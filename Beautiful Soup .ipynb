{
    "cells": [
        {
            "metadata": {
                "collapsed": true
            },
            "cell_type": "markdown",
            "source": "# Beautiful Soup\nBeautiful Soup is a Python library for pulling data out of HTML and XML files,"
        },
        {
            "metadata": {},
            "cell_type": "code",
            "source": "!pip install requests\n!pip install bs4\n!pip install html5lib",
            "execution_count": 1,
            "outputs": [
                {
                    "output_type": "stream",
                    "text": "Requirement already satisfied: requests in /opt/conda/envs/Python-3.8-main/lib/python3.8/site-packages (2.25.1)\nRequirement already satisfied: chardet<5,>=3.0.2 in /opt/conda/envs/Python-3.8-main/lib/python3.8/site-packages (from requests) (3.0.4)\nRequirement already satisfied: idna<3,>=2.5 in /opt/conda/envs/Python-3.8-main/lib/python3.8/site-packages (from requests) (2.8)\nRequirement already satisfied: certifi>=2017.4.17 in /opt/conda/envs/Python-3.8-main/lib/python3.8/site-packages (from requests) (2021.5.30)\nRequirement already satisfied: urllib3<1.27,>=1.21.1 in /opt/conda/envs/Python-3.8-main/lib/python3.8/site-packages (from requests) (1.26.6)\nCollecting bs4\n  Downloading bs4-0.0.1.tar.gz (1.1 kB)\nRequirement already satisfied: beautifulsoup4 in /opt/conda/envs/Python-3.8-main/lib/python3.8/site-packages (from bs4) (4.9.3)\nRequirement already satisfied: soupsieve>1.2 in /opt/conda/envs/Python-3.8-main/lib/python3.8/site-packages (from beautifulsoup4->bs4) (2.2.1)\nBuilding wheels for collected packages: bs4\n  Building wheel for bs4 (setup.py) ... \u001b[?25ldone\n\u001b[?25h  Created wheel for bs4: filename=bs4-0.0.1-py3-none-any.whl size=1273 sha256=c4feed8911c7c2710a9a276388ebe313b27f9e24fe58ee1e14d913618ffb5718\n  Stored in directory: /tmp/wsuser/.cache/pip/wheels/75/78/21/68b124549c9bdc94f822c02fb9aa3578a669843f9767776bca\nSuccessfully built bs4\nInstalling collected packages: bs4\nSuccessfully installed bs4-0.0.1\nRequirement already satisfied: html5lib in /opt/conda/envs/Python-3.8-main/lib/python3.8/site-packages (1.1)\nRequirement already satisfied: webencodings in /opt/conda/envs/Python-3.8-main/lib/python3.8/site-packages (from html5lib) (0.5.1)\nRequirement already satisfied: six>=1.9 in /opt/conda/envs/Python-3.8-main/lib/python3.8/site-packages (from html5lib) (1.15.0)\n",
                    "name": "stdout"
                }
            ]
        },
        {
            "metadata": {},
            "cell_type": "code",
            "source": "# import libraries\nfrom bs4 import BeautifulSoup #use for scraping website\nimport requests\nimport html5lib\n",
            "execution_count": 4,
            "outputs": []
        },
        {
            "metadata": {},
            "cell_type": "markdown",
            "source": "sample HTML code\n"
        },
        {
            "metadata": {},
            "cell_type": "code",
            "source": "%%html\n<!DOCTYPE html>\n<html>\n<head>\n<title>Page Title</title>\n</head>\n<body>\n<h3><b id='boldest'>Lebron James</b></h3>\n<p> Salary: $ 92,000,000 </p>\n<h3> Stephen Curry</h3>\n<p> Salary: $85,000, 000 </p>\n<h3> Kevin Durant </h3>\n<p> Salary: $73,200, 000</p>\n</body>\n</html>",
            "execution_count": 12,
            "outputs": [
                {
                    "output_type": "display_data",
                    "data": {
                        "text/plain": "<IPython.core.display.HTML object>",
                        "text/html": "<!DOCTYPE html>\n<html>\n<head>\n<title>Page Title</title>\n</head>\n<body>\n<h3><b id='boldest'>Lebron James</b></h3>\n<p> Salary: $ 92,000,000 </p>\n<h3> Stephen Curry</h3>\n<p> Salary: $85,000, 000 </p>\n<h3> Kevin Durant </h3>\n<p> Salary: $73,200, 000</p>\n</body>\n</html>\n"
                    },
                    "metadata": {}
                }
            ]
        },
        {
            "metadata": {},
            "cell_type": "code",
            "source": "html=\"%%html<!DOCTYPE html><html><head><title>Page Title</title></head><body><h3><b id='boldest'>Lebron James</b></h3><p> Salary: $ 92,000,000 </p><h3> Stephen Curry</h3><p> Salary: $85,000, 000 </p><h3> Kevin Durant </h3><p> Salary: $73,200, 000</p></body></html>\"",
            "execution_count": 14,
            "outputs": []
        },
        {
            "metadata": {
                "collapsed": true
            },
            "cell_type": "code",
            "source": "#prsing and diplay of html\nsoup = BeautifulSoup(html,'html5lib')#parse into beautifulsoup constructor\nprint(soup.prettify())# to display HTML",
            "execution_count": 16,
            "outputs": [
                {
                    "output_type": "stream",
                    "text": "<html>\n <head>\n </head>\n <body>\n  %%html\n  <title>\n   Page Title\n  </title>\n  <h3>\n   <b id=\"boldest\">\n    Lebron James\n   </b>\n  </h3>\n  <p>\n   Salary: $ 92,000,000\n  </p>\n  <h3>\n   Stephen Curry\n  </h3>\n  <p>\n   Salary: $85,000, 000\n  </p>\n  <h3>\n   Kevin Durant\n  </h3>\n  <p>\n   Salary: $73,200, 000\n  </p>\n </body>\n</html>\n",
                    "name": "stdout"
                }
            ]
        },
        {
            "metadata": {},
            "cell_type": "code",
            "source": "# Tags\ntag_object=soup.title\nprint(\"tag object:\",tag_object)\nprint(\"tag type:  \",type(tag_object))",
            "execution_count": 18,
            "outputs": [
                {
                    "output_type": "stream",
                    "text": "tag object: <title>Page Title</title>\ntag type:   <class 'bs4.element.Tag'>\n",
                    "name": "stdout"
                }
            ]
        },
        {
            "metadata": {},
            "cell_type": "code",
            "source": "tag_object=soup.h3\nprint(\"tag object:\",tag_object)\nprint(\"tag type:  \",type(tag_object))",
            "execution_count": 19,
            "outputs": [
                {
                    "output_type": "stream",
                    "text": "tag object: <h3><b id=\"boldest\">Lebron James</b></h3>\ntag type:   <class 'bs4.element.Tag'>\n",
                    "name": "stdout"
                }
            ]
        },
        {
            "metadata": {},
            "cell_type": "code",
            "source": "# child parent\ntag_child=tag_object.b\nprint(\"tag object:\",tag_object)\nprint(\"tag type:  \",type(tag_object))\n\nparent_tag=tag_child.parent\nprint(\"parent tag: \",parent_tag)\n",
            "execution_count": 22,
            "outputs": [
                {
                    "output_type": "stream",
                    "text": "tag object: <h3><b id=\"boldest\">Lebron James</b></h3>\ntag type:   <class 'bs4.element.Tag'>\nparent tag:  <h3><b id=\"boldest\">Lebron James</b></h3>\n",
                    "name": "stdout"
                }
            ]
        },
        {
            "metadata": {},
            "cell_type": "code",
            "source": "print(tag_object.parent) #body will come as output",
            "execution_count": 21,
            "outputs": [
                {
                    "output_type": "stream",
                    "text": "<body>%%html<title>Page Title</title><h3><b id=\"boldest\">Lebron James</b></h3><p> Salary: $ 92,000,000 </p><h3> Stephen Curry</h3><p> Salary: $85,000, 000 </p><h3> Kevin Durant </h3><p> Salary: $73,200, 000</p></body>\n",
                    "name": "stdout"
                }
            ]
        },
        {
            "metadata": {},
            "cell_type": "code",
            "source": "# siblings\nprint(\"tag object\",tag_object)\nsibling_1=tag_object.next_sibling\nprint(\"sibling1: \",sibling_1)\n\nsibling_2=sibling_1.next_sibling\nprint(\"sibling2: \",sibling_2)\nsibling_3=sibling_2.next_sibling\nprint('sibling3:',sibling_3)",
            "execution_count": 26,
            "outputs": [
                {
                    "output_type": "stream",
                    "text": "tag object <h3><b id=\"boldest\">Lebron James</b></h3>\nsibling1:  <p> Salary: $ 92,000,000 </p>\nsibling2:  <h3> Stephen Curry</h3>\nsibling3: <p> Salary: $85,000, 000 </p>\n",
                    "name": "stdout"
                }
            ]
        },
        {
            "metadata": {},
            "cell_type": "code",
            "source": "# HTML Attributes\nprint(tag_child['id'])# tag id\nprint(tag_child.attrs)  # attributes act like dictionaries\nprint(tag_child.get('id'))# content of tag by get()",
            "execution_count": 28,
            "outputs": [
                {
                    "output_type": "stream",
                    "text": "boldest\n{'id': 'boldest'}\nboldest\n",
                    "name": "stdout"
                }
            ]
        },
        {
            "metadata": {},
            "cell_type": "code",
            "source": "# Navigable string\ntag_string=tag_child.string\nprint(tag_string)\nprint(\"type \",type(tag_string))\nunicode_string=str(tag_string)# convert it to string object in python\nprint(unicode_string)",
            "execution_count": 30,
            "outputs": [
                {
                    "output_type": "stream",
                    "text": "Lebron James\ntype  <class 'bs4.element.NavigableString'>\nLebron James\n",
                    "name": "stdout"
                }
            ]
        },
        {
            "metadata": {},
            "cell_type": "markdown",
            "source": "# summary\nIn this lab we learned about installing and importing of Beautiful soup.reading html document and findingobjects, parent,child, string ,siblings.\n"
        }
    ],
    "metadata": {
        "kernelspec": {
            "name": "python3",
            "display_name": "Python 3.8",
            "language": "python"
        },
        "language_info": {
            "name": "python",
            "version": "3.8.11",
            "mimetype": "text/x-python",
            "codemirror_mode": {
                "name": "ipython",
                "version": 3
            },
            "pygments_lexer": "ipython3",
            "nbconvert_exporter": "python",
            "file_extension": ".py"
        }
    },
    "nbformat": 4,
    "nbformat_minor": 1
}