{
    "cells": [
        {
            "metadata": {
                "collapsed": true
            },
            "cell_type": "markdown",
            "source": "# HTTP URL\n## Request and Response"
        },
        {
            "metadata": {
                "collapsed": true
            },
            "cell_type": "code",
            "source": "import requests\nimport os\nfrom PIL import Image\nfrom IPython.display import IFrame\nurl='https://cf-courses-data.s3.us.cloud-object-storage.appdomain.cloud/IBMDeveloperSkillsNetwork-PY0101EN-SkillsNetwork/labs/Module%205/data/Example1.txt'\nr=requests.get(url)\n\nprint(r.headers)\nheader= r.headers\nprint(header['date'])\nprint(header['content-type'])\nprint(r.encoding)\nprint(r.text[0:100])\n\npath=os.path.join(os.getcwd(),'Example1.txt')\nprint(path)\nwith open(path,'wb') as f:\n    f.write(r.content)\n    print(r.status_code)\nprint(r.request.headers)\nprint(r.request.body)",
            "execution_count": 12,
            "outputs": [
                {
                    "output_type": "stream",
                    "text": "{'Date': 'Wed, 29 Sep 2021 06:43:32 GMT', 'X-Clv-Request-Id': 'b4fe217a-f890-4715-9fe4-8f550f230742', 'Server': 'Cleversafe', 'X-Clv-S3-Version': '2.5', 'Accept-Ranges': 'bytes', 'x-amz-request-id': 'b4fe217a-f890-4715-9fe4-8f550f230742', 'Cache-Control': 'max-age=0,public', 'ETag': '\"522bc63a850f3569b8924c51131d5fe4\"', 'Content-Type': 'text/plain', 'Last-Modified': 'Thu, 19 Aug 2021 12:52:55 GMT', 'Content-Length': '45'}\nWed, 29 Sep 2021 06:43:32 GMT\ntext/plain\nISO-8859-1\nThis is line 1 \nThis is line 2\nThis is line 3\n/home/wsuser/work/Example1.txt\n200\n{'User-Agent': 'python-requests/2.25.1', 'Accept-Encoding': 'gzip, deflate', 'Accept': '*/*', 'Connection': 'keep-alive'}\nNone\n",
                    "name": "stdout"
                }
            ]
        },
        {
            "metadata": {},
            "cell_type": "code",
            "source": "#get\nurl_get='http://httpbin.org/get'\npayload={'name':'joseph','value':'123'}\nr= requests.get(url_get,params=payload)\nprint(r.url)\nprint(\"request body\",r.request.body)\nprint(r.status_code)\nprint(r.text)\nprint(r.headers['content-type'])\nprint(r.json())\nprint(r.json()['args'])\n\n",
            "execution_count": 34,
            "outputs": [
                {
                    "output_type": "stream",
                    "text": "http://httpbin.org/get?name=joseph&value=123\nrequest body None\n200\n{\n  \"args\": {\n    \"name\": \"joseph\", \n    \"value\": \"123\"\n  }, \n  \"headers\": {\n    \"Accept\": \"*/*\", \n    \"Accept-Encoding\": \"gzip, deflate\", \n    \"Host\": \"httpbin.org\", \n    \"User-Agent\": \"python-requests/2.25.1\", \n    \"X-Amzn-Trace-Id\": \"Root=1-61540df8-7734d9107b8127cd6471b39d\"\n  }, \n  \"origin\": \"128.168.103.146\", \n  \"url\": \"http://httpbin.org/get?name=joseph&value=123\"\n}\n\napplication/json\n{'args': {'name': 'joseph', 'value': '123'}, 'headers': {'Accept': '*/*', 'Accept-Encoding': 'gzip, deflate', 'Host': 'httpbin.org', 'User-Agent': 'python-requests/2.25.1', 'X-Amzn-Trace-Id': 'Root=1-61540df8-7734d9107b8127cd6471b39d'}, 'origin': '128.168.103.146', 'url': 'http://httpbin.org/get?name=joseph&value=123'}\n{'name': 'joseph', 'value': '123'}\n",
                    "name": "stdout"
                }
            ]
        },
        {
            "metadata": {
                "collapsed": true
            },
            "cell_type": "code",
            "source": "# post\nurl_post='http://httpbin.org/post'\npayload={'name':'joseph','value':'123'}\nr_post= requests.post(url_post, data=payload)\nprint(r_post.url)\nprint(\"request body\",r_post.request.body)\nprint(r_post.status_code)\nprint(r_post.text)\nprint(r_post.headers['content-type'])\nprint(r_post.json())\nprint(r_post.json()['args'])\n",
            "execution_count": 32,
            "outputs": [
                {
                    "output_type": "stream",
                    "text": "http://httpbin.org/post\nrequest body name=joseph&value=123\n200\n{\n  \"args\": {}, \n  \"data\": \"\", \n  \"files\": {}, \n  \"form\": {\n    \"name\": \"joseph\", \n    \"value\": \"123\"\n  }, \n  \"headers\": {\n    \"Accept\": \"*/*\", \n    \"Accept-Encoding\": \"gzip, deflate\", \n    \"Content-Length\": \"21\", \n    \"Content-Type\": \"application/x-www-form-urlencoded\", \n    \"Host\": \"httpbin.org\", \n    \"User-Agent\": \"python-requests/2.25.1\", \n    \"X-Amzn-Trace-Id\": \"Root=1-61540dcd-03da091d76c18f52755a2ff7\"\n  }, \n  \"json\": null, \n  \"origin\": \"128.168.103.146\", \n  \"url\": \"http://httpbin.org/post\"\n}\n\napplication/json\n{'args': {}, 'data': '', 'files': {}, 'form': {'name': 'joseph', 'value': '123'}, 'headers': {'Accept': '*/*', 'Accept-Encoding': 'gzip, deflate', 'Content-Length': '21', 'Content-Type': 'application/x-www-form-urlencoded', 'Host': 'httpbin.org', 'User-Agent': 'python-requests/2.25.1', 'X-Amzn-Trace-Id': 'Root=1-61540dcd-03da091d76c18f52755a2ff7'}, 'json': None, 'origin': '128.168.103.146', 'url': 'http://httpbin.org/post'}\n{}\n",
                    "name": "stdout"
                }
            ]
        },
        {
            "metadata": {},
            "cell_type": "code",
            "source": "# comparing get and post url\nprint(\"POST request URL:\",r_post.url )\nprint(\"GET request URL:\",r.url)",
            "execution_count": 35,
            "outputs": [
                {
                    "output_type": "stream",
                    "text": "POST request URL: http://httpbin.org/post\nGET request URL: http://httpbin.org/get?name=joseph&value=123\n",
                    "name": "stdout"
                }
            ]
        },
        {
            "metadata": {},
            "cell_type": "code",
            "source": "# compare request body of get and post\nprint(\"POST request body:\",r_post.request.body)\nprint(\"GET request body:\",r.request.body)",
            "execution_count": 36,
            "outputs": [
                {
                    "output_type": "stream",
                    "text": "POST request body: name=joseph&value=123\nGET request body: None\n",
                    "name": "stdout"
                }
            ]
        },
        {
            "metadata": {},
            "cell_type": "code",
            "source": "",
            "execution_count": null,
            "outputs": []
        }
    ],
    "metadata": {
        "kernelspec": {
            "name": "python3",
            "display_name": "Python 3.8",
            "language": "python"
        },
        "language_info": {
            "name": "python",
            "version": "3.8.11",
            "mimetype": "text/x-python",
            "codemirror_mode": {
                "name": "ipython",
                "version": 3
            },
            "pygments_lexer": "ipython3",
            "nbconvert_exporter": "python",
            "file_extension": ".py"
        }
    },
    "nbformat": 4,
    "nbformat_minor": 1
}